{
 "cells": [
  {
   "cell_type": "markdown",
   "metadata": {},
   "source": [
    "### Imports"
   ]
  },
  {
   "cell_type": "code",
   "execution_count": 92,
   "metadata": {},
   "outputs": [],
   "source": [
    "import sklearn\n",
    "from sklearn.model_selection import train_test_split\n",
    "from sklearn.pipeline import Pipeline\n",
    "from sklearn.feature_extraction.text import TfidfVectorizer\n",
    "from sklearn.naive_bayes import MultinomialNB\n",
    "from sklearn.metrics import confusion_matrix, accuracy_score, classification_report\n",
    "import numpy as np\n",
    "import pandas as pd\n",
    "import os\n",
    "from PIL import Image\n",
    "from wordcloud import WordCloud, STOPWORDS, ImageColorGenerator\n",
    "import matplotlib.pyplot as plt\n",
    "import nltk\n",
    "from nltk.corpus import stopwords\n",
    "import string\n",
    "import re\n",
    "import joblib\n",
    "\n",
    "\n",
    "# SpaCy Imports for text preprocessing\n",
    "# import spacy\n",
    "# from spacy.tokenizer import Tokenizer\n",
    "# from spacy.lang.en import English, STOP_WORDS, TOKENIZER_EXCEPTIONS, BASE_EXCEPTIONS\n",
    "# from util import update_exc\n",
    "\n"
   ]
  },
  {
   "cell_type": "markdown",
   "metadata": {},
   "source": [
    "### Constants"
   ]
  },
  {
   "cell_type": "code",
   "execution_count": 101,
   "metadata": {},
   "outputs": [],
   "source": [
    "DATASET_PATH = \"ReviewsDataset.csv\"\n",
    "SAVED_MODEL_FILE = \"SavedModel.sav\""
   ]
  },
  {
   "cell_type": "markdown",
   "metadata": {},
   "source": [
    "### Reading the data and displaying it"
   ]
  },
  {
   "cell_type": "code",
   "execution_count": 102,
   "metadata": {},
   "outputs": [
    {
     "name": "stdout",
     "output_type": "stream",
     "text": [
      "(2999, 2)\n",
      "(2999,)\n",
      "(2999,)\n"
     ]
    }
   ],
   "source": [
    "curr_dir = os.getcwd()\n",
    "complete_data = pd.read_csv(os.path.join(curr_dir, DATASET_PATH), header=0)\n",
    "input_reviews = complete_data.iloc[0:, 0]\n",
    "labels_senti = complete_data.iloc[0:, 1]\n",
    "print(complete_data.shape)\n",
    "print(input_reviews.shape)\n",
    "print(labels_senti.shape)\n",
    "#print(input_reviews)\n",
    "#print(labels_senti)"
   ]
  },
  {
   "cell_type": "code",
   "execution_count": 106,
   "metadata": {},
   "outputs": [],
   "source": [
    "train_inputs, test_inputs, train_labels, test_labels = train_test_split(input_reviews, labels_senti, test_size=0.25, random_state=0)\n",
    "# print(train_inputs)\n",
    "# print(train_labels)\n",
    "\n",
    "def text_preprocessor(reviews):\n",
    "    stop_words = set(stopwords.words('english'))\n",
    "    index = 0\n",
    "    for review_text in reviews.iloc[:0].to_numpy():\n",
    "        # print(review_text.dtype)\n",
    "        words_filtered = []\n",
    "        # print(review_text.dtype)\n",
    "        review_text_list = review_text.split()\n",
    "        for w in review_text_list:\n",
    "            if w not in stop_words:\n",
    "                re.sub(r\"[^\\w\\d'\\s,.]\",'',w)\n",
    "                re.sub(r'[^\\w\\d\\s]',' ',w)\n",
    "                words_filtered.append(w.lower())\n",
    "        # words_filtered = pd.Series(words_filtered)\n",
    "        reviews.iloc[index] = words_filtered\n",
    "        index = index + 1\n",
    "    print(\"reviews processed\")\n",
    "    print(reviews.dtype)\n",
    "    print(reviews.shape)\n",
    "    #ret_reviews = reviews.reshape(1, reviews.shape[0])\n",
    "    #print(ret_reviews.shape)\n",
    "    return reviews\n"
   ]
  },
  {
   "cell_type": "code",
   "execution_count": 107,
   "metadata": {},
   "outputs": [
    {
     "name": "stdout",
     "output_type": "stream",
     "text": [
      "reviews processed\n",
      "object\n",
      "(2249,)\n",
      "reviews processed\n",
      "object\n",
      "(750,)\n",
      "object\n",
      "object\n",
      "(2249,)\n",
      "(750,)\n",
      "object\n",
      "object\n",
      "(2249,)\n",
      "(750,)\n"
     ]
    }
   ],
   "source": [
    "# train_inputs_obj = list()\n",
    "# test_inputs_obj = list()\n",
    "#print(train_inputs_obj.shape)\n",
    "#print(test_inputs_obj.shape)\n",
    "\n",
    "train_inputs_obj = text_preprocessor(train_inputs)\n",
    "test_inputs_obj = text_preprocessor(test_inputs)\n",
    "\n",
    "#train_inputs_obj = text_preprocessor(train_inputs).to_numpy(copy=True)\n",
    "#test_inputs_obj = text_preprocessor(test_inputs).to_numpy(copy=True)\n",
    "\n",
    "print(train_labels.dtype)\n",
    "print(test_labels.dtype)\n",
    "print(train_labels.shape)\n",
    "print(test_labels.shape)\n",
    "# print(train_inputs_obj[0])\n",
    "print(train_inputs_obj.dtype)\n",
    "print(test_inputs_obj.dtype)\n",
    "print(train_inputs_obj.shape)\n",
    "print(test_inputs_obj.shape)\n"
   ]
  },
  {
   "cell_type": "code",
   "execution_count": 108,
   "metadata": {},
   "outputs": [
    {
     "data": {
      "text/plain": [
       "['SavedModel.sav']"
      ]
     },
     "execution_count": 108,
     "metadata": {},
     "output_type": "execute_result"
    }
   ],
   "source": [
    "sentiment_analysis = Pipeline([('tfidf', TfidfVectorizer()), ('model', MultinomialNB())])\n",
    "sentiment_analysis.fit(train_inputs_obj, train_labels)\n",
    "joblib.dump(sentiment_analysis, SAVED_MODEL_FILE)"
   ]
  },
  {
   "cell_type": "markdown",
   "metadata": {},
   "source": [
    "### Testing Module"
   ]
  },
  {
   "cell_type": "code",
   "execution_count": 112,
   "metadata": {},
   "outputs": [
    {
     "name": "stdout",
     "output_type": "stream",
     "text": [
      "0.8266666666666667\n",
      "[[313  67]\n",
      " [ 63 307]]\n"
     ]
    }
   ],
   "source": [
    "loaded_model = joblib.load(SAVED_MODEL_FILE)\n",
    "y_pred = loaded_model.predict(test_inputs)\n",
    "print(accuracy_score(y_pred, test_labels))\n",
    "print(confusion_matrix(y_pred, test_labels))"
   ]
  },
  {
   "cell_type": "code",
   "execution_count": 117,
   "metadata": {},
   "outputs": [
    {
     "name": "stdout",
     "output_type": "stream",
     "text": [
      "['positive']\n",
      "['negative']\n"
     ]
    }
   ],
   "source": [
    "str_pred = \"This is one of the funniest movies ever made. And for those of you who don't get it, it's supposed to be funny. So often comedies try to be so intentionally funny that it misses, but here is finally a movie that succeeds in being hilarious in the most subtle of ways. Even \"\"spoofs\"\" lack the originality and natural feel of this film. It is a comedic classic that will surely be appreciated in another time when studios are fdoing this sort of thing regularly. kudos to the makers, and to a hilariously subtle cast of actors, including Isaac Wade, whose performances is top-notch. Truly, a real break-out star performance by an true underrated stage actor. It'll be great to see this guy get his due.\"\n",
    "print(loaded_model.predict([str_pred]))\n",
    "\n",
    "str_pred2 = \"The Little Mermaid is one of my absolute favorite Disney movies. I'm sorry to say, however, that Disney completely messed up when they made this sequel. I'll admit it has some good points to it. The songs aren't bad, and the animation is clean and clear. There is some humor, I'm sure--I don't remember, because after watching it I immediately banned it from appearing before my eyes again. The worst point of this movie is the plot. In this movie, Ariel becomes her father. She forbids her daughter to go near the sea (yes, out of fear), just as she was forbidden to go near the land. I personally think that, given her past, Ariel would maintain some of her headstrong ways and not treat her daughter like she herself was treated.<br /><br />Besides this fact, Ursula was replaced by a non-scary, pathetic sort of sea witch (the underfed, forgotten sister) who is more comical than scary. She, too, has some little underling to do her bidding--but she's not scarier or worse than Ursula. Ursula spoiled us with her believability for badness. This sea witch is a joke.<br /><br />To make matters worse, Flounder is a fat, deep-voiced father (no longer the cute guppy we all know and love) and Eric's voice is not even done by the same actor (something that always annoys me in a remake/sequel). (His voice difference was very obvious to me, by the way!) I felt that the only reason this movie was made was so that Disney could catch a few fast dollars, something I hate to think about a corporation I actually really do enjoy. I felt that this plot lacked imagination. I know that this act (child following in the footsteps of a parent) happens, but Ariel was different. That was what we loved so much about her. She had a dream, she fell in love, and she made that dream come true. Until she appeared in this movie, that is. Then she became just like the other adults. This isn't the Ariel I know. And I don't like her.<br /><br />I know of some children who have enjoyed this film, and I know some adults who didn't mind it, either. But for me, and for all of you out there who have the utmost love for Ariel, please don't see this movie. The Ariel we know dies within, resurrected only for a song or two and one final scene that actually isn't bad (where she accepts the water back again)--although she takes very little part in the ending, regardless.\"\n",
    "print(loaded_model.predict([str_pred2]))\n"
   ]
  },
  {
   "cell_type": "code",
   "execution_count": null,
   "metadata": {},
   "outputs": [],
   "source": [
    "%matplotlib notebook\n",
    "import numpy as np\n",
    "import pandas as pd\n",
    "from os import path\n",
    "from PIL import Image\n",
    "from wordcloud import WordCloud\n",
    "import matplotlib.pyplot as plt\n",
    "\n",
    "text = \"hello hello hello hello hi hi aa done what hello please hi there\"\n",
    "wordcloud = WordCloud().generate(text)\n",
    "plt.imshow(wordcloud, interpolation='bilinear')\n",
    "plt.axis(\"off\")\n",
    "plt.show()"
   ]
  },
  {
   "cell_type": "code",
   "execution_count": null,
   "metadata": {},
   "outputs": [],
   "source": [
    "nlp = English()\n",
    "special_cases = BASE_EXCEPTIONS\n",
    "special_cases = update_exc(special_cases, TOKENIZER_EXCEPTIONS)\n",
    "special_cases\n",
    "#Tokenizer(nlp.vocab, rules=special_cases, prefix_search=prefix_re.search, suffix_search=suffix_re.search, infix_finditer=infix_re.finditer, url_match=simple_url_re.match)"
   ]
  },
  {
   "cell_type": "code",
   "execution_count": null,
   "metadata": {},
   "outputs": [],
   "source": [
    "pip install regex"
   ]
  },
  {
   "cell_type": "code",
   "execution_count": null,
   "metadata": {},
   "outputs": [],
   "source": [
    "pip install spacy\n",
    "pip install spacy-lookups-data\n",
    "python -m spacy download en_core_web_sm"
   ]
  },
  {
   "cell_type": "code",
   "execution_count": null,
   "metadata": {},
   "outputs": [],
   "source": [
    "pip install --upgrade gensim --user"
   ]
  },
  {
   "cell_type": "code",
   "execution_count": null,
   "metadata": {},
   "outputs": [],
   "source": [
    "pip install --upgrade language-check --user"
   ]
  },
  {
   "cell_type": "code",
   "execution_count": null,
   "metadata": {},
   "outputs": [],
   "source": [
    "pip install pycontractions"
   ]
  },
  {
   "cell_type": "code",
   "execution_count": null,
   "metadata": {},
   "outputs": [],
   "source": [
    "import string\n",
    "s = '.efqf,ewfqwe\\'qewfqewfqef'\n",
    "s.translate({ord(c): None for c in string.punctuation})"
   ]
  },
  {
   "cell_type": "code",
   "execution_count": null,
   "metadata": {},
   "outputs": [],
   "source": [
    "from pycontractions import Contractions\n",
    "cont = Contractions(api_key=\"glove-twitter-25\")\n",
    "list(cont.expand_texts(train_inputs.values))"
   ]
  },
  {
   "cell_type": "code",
   "execution_count": null,
   "metadata": {},
   "outputs": [],
   "source": [
    "import nltk\n",
    "nltk.download('stopwords')"
   ]
  },
  {
   "cell_type": "code",
   "execution_count": 119,
   "metadata": {},
   "outputs": [
    {
     "name": "stdout",
     "output_type": "stream",
     "text": [
      "Collecting streamlit\n",
      "  Using cached https://files.pythonhosted.org/packages/5a/13/c738cf11d526ede46a326f14ede28141ce6a4c2e22cf69842d80fa6cd2a5/streamlit-0.68.0-py2.py3-none-any.whl\n",
      "Requirement already satisfied: altair>=3.2.0 in c:\\programdata\\anaconda\\lib\\site-packages (from streamlit) (4.1.0)\n",
      "Collecting validators (from streamlit)\n",
      "  Using cached https://files.pythonhosted.org/packages/41/4a/3360ff3cf2b4a1b9721ac1fbff5f84663f41047d9874b3aa1ac82e862c44/validators-0.18.1-py3-none-any.whl\n",
      "Requirement already satisfied: tzlocal in c:\\programdata\\anaconda\\lib\\site-packages (from streamlit) (2.1)\n",
      "Requirement already satisfied: enum-compat in c:\\programdata\\anaconda\\lib\\site-packages (from streamlit) (0.0.3)\n",
      "Collecting pydeck>=0.1.dev5 (from streamlit)\n",
      "  Using cached https://files.pythonhosted.org/packages/51/1e/296f4108bf357e684617a776ecaf06ee93b43e30c35996dfac1aa985aa6c/pydeck-0.5.0b1-py2.py3-none-any.whl\n",
      "Requirement already satisfied: protobuf>=3.6.0 in c:\\programdata\\anaconda\\lib\\site-packages (from streamlit) (3.13.0)\n",
      "Requirement already satisfied: packaging in c:\\programdata\\anaconda\\lib\\site-packages (from streamlit) (19.0)\n",
      "Requirement already satisfied: watchdog in c:\\programdata\\anaconda\\lib\\site-packages (from streamlit) (0.10.3)\n",
      "Requirement already satisfied: tornado>=5.0 in c:\\programdata\\anaconda\\lib\\site-packages (from streamlit) (6.0.3)\n",
      "Requirement already satisfied: numpy in c:\\programdata\\anaconda\\lib\\site-packages (from streamlit) (1.16.4)\n",
      "Collecting toml (from streamlit)\n",
      "  Using cached https://files.pythonhosted.org/packages/9f/e1/1b40b80f2e1663a6b9f497123c11d7d988c0919abbf3c3f2688e448c5363/toml-0.10.1-py2.py3-none-any.whl\n",
      "Collecting astor (from streamlit)\n",
      "  Using cached https://files.pythonhosted.org/packages/c3/88/97eef84f48fa04fbd6750e62dcceafba6c63c81b7ac1420856c8dcc0a3f9/astor-0.8.1-py2.py3-none-any.whl\n",
      "Requirement already satisfied: botocore>=1.13.44 in c:\\programdata\\anaconda\\lib\\site-packages (from streamlit) (1.18.16)\n",
      "Requirement already satisfied: click>=7.0 in c:\\programdata\\anaconda\\lib\\site-packages (from streamlit) (7.0)\n",
      "Collecting pillow>=6.2.0 (from streamlit)\n",
      "  Using cached https://files.pythonhosted.org/packages/36/fd/f83806d04175c0a58332578143ee7a9c5702e6e0f134e157684c737ae55b/Pillow-7.2.0-cp37-cp37m-win_amd64.whl\n",
      "Requirement already satisfied: boto3 in c:\\programdata\\anaconda\\lib\\site-packages (from streamlit) (1.15.16)\n",
      "Collecting blinker (from streamlit)\n",
      "Collecting pyarrow (from streamlit)\n",
      "  Using cached https://files.pythonhosted.org/packages/51/bb/f843808f75601325843abc0f350fb5614ff3ce7fffa0f04e33b66afbef41/pyarrow-1.0.1-cp37-cp37m-win_amd64.whl\n",
      "Requirement already satisfied: cachetools>=4.0 in c:\\programdata\\anaconda\\lib\\site-packages (from streamlit) (4.1.1)\n",
      "Requirement already satisfied: requests in c:\\programdata\\anaconda\\lib\\site-packages (from streamlit) (2.22.0)\n",
      "Requirement already satisfied: python-dateutil in c:\\programdata\\anaconda\\lib\\site-packages (from streamlit) (2.8.0)\n",
      "Collecting base58 (from streamlit)\n",
      "  Using cached https://files.pythonhosted.org/packages/3c/03/58572025c77b9e6027155b272a1b96298e711cd4f95c24967f7137ab0c4b/base58-2.0.1-py3-none-any.whl\n",
      "Requirement already satisfied: pandas>=0.21.0 in c:\\programdata\\anaconda\\lib\\site-packages (from streamlit) (0.24.2)\n",
      "Requirement already satisfied: jinja2 in c:\\programdata\\anaconda\\lib\\site-packages (from altair>=3.2.0->streamlit) (2.10.1)\n",
      "Requirement already satisfied: jsonschema in c:\\programdata\\anaconda\\lib\\site-packages (from altair>=3.2.0->streamlit) (3.0.1)\n",
      "Requirement already satisfied: entrypoints in c:\\programdata\\anaconda\\lib\\site-packages (from altair>=3.2.0->streamlit) (0.3)\n",
      "Requirement already satisfied: toolz in c:\\programdata\\anaconda\\lib\\site-packages (from altair>=3.2.0->streamlit) (0.10.0)\n",
      "Requirement already satisfied: six>=1.4.0 in c:\\programdata\\anaconda\\lib\\site-packages (from validators->streamlit) (1.12.0)\n",
      "Requirement already satisfied: decorator>=3.4.0 in c:\\programdata\\anaconda\\lib\\site-packages (from validators->streamlit) (4.4.0)\n",
      "Requirement already satisfied: pytz in c:\\programdata\\anaconda\\lib\\site-packages (from tzlocal->streamlit) (2019.1)\n",
      "Collecting ipykernel>=5.1.2; python_version >= \"3.4\" (from pydeck>=0.1.dev5->streamlit)\n",
      "  Using cached https://files.pythonhosted.org/packages/52/19/c2812690d8b340987eecd2cbc18549b1d130b94c5d97fcbe49f5f8710edf/ipykernel-5.3.4-py3-none-any.whl\n",
      "Requirement already satisfied: ipywidgets>=7.0.0 in c:\\programdata\\anaconda\\lib\\site-packages (from pydeck>=0.1.dev5->streamlit) (7.5.0)\n",
      "Requirement already satisfied: traitlets>=4.3.2 in c:\\programdata\\anaconda\\lib\\site-packages (from pydeck>=0.1.dev5->streamlit) (4.3.2)\n",
      "Requirement already satisfied: setuptools in c:\\programdata\\anaconda\\lib\\site-packages (from protobuf>=3.6.0->streamlit) (41.0.1)\n",
      "Requirement already satisfied: pyparsing>=2.0.2 in c:\\programdata\\anaconda\\lib\\site-packages (from packaging->streamlit) (2.4.0)\n",
      "Requirement already satisfied: pathtools>=0.1.1 in c:\\programdata\\anaconda\\lib\\site-packages (from watchdog->streamlit) (0.1.2)\n",
      "Requirement already satisfied: urllib3<1.26,>=1.20; python_version != \"3.4\" in c:\\programdata\\anaconda\\lib\\site-packages (from botocore>=1.13.44->streamlit) (1.24.2)\n",
      "Requirement already satisfied: jmespath<1.0.0,>=0.7.1 in c:\\programdata\\anaconda\\lib\\site-packages (from botocore>=1.13.44->streamlit) (0.10.0)\n",
      "Requirement already satisfied: s3transfer<0.4.0,>=0.3.0 in c:\\programdata\\anaconda\\lib\\site-packages (from boto3->streamlit) (0.3.3)\n",
      "Requirement already satisfied: idna<2.9,>=2.5 in c:\\programdata\\anaconda\\lib\\site-packages (from requests->streamlit) (2.8)\n",
      "Requirement already satisfied: certifi>=2017.4.17 in c:\\programdata\\anaconda\\lib\\site-packages (from requests->streamlit) (2019.6.16)\n",
      "Requirement already satisfied: chardet<3.1.0,>=3.0.2 in c:\\programdata\\anaconda\\lib\\site-packages (from requests->streamlit) (3.0.4)\n",
      "Requirement already satisfied: MarkupSafe>=0.23 in c:\\programdata\\anaconda\\lib\\site-packages (from jinja2->altair>=3.2.0->streamlit) (1.1.1)\n",
      "Requirement already satisfied: attrs>=17.4.0 in c:\\programdata\\anaconda\\lib\\site-packages (from jsonschema->altair>=3.2.0->streamlit) (19.1.0)\n",
      "Requirement already satisfied: pyrsistent>=0.14.0 in c:\\programdata\\anaconda\\lib\\site-packages (from jsonschema->altair>=3.2.0->streamlit) (0.14.11)\n",
      "Requirement already satisfied: ipython>=5.0.0 in c:\\programdata\\anaconda\\lib\\site-packages (from ipykernel>=5.1.2; python_version >= \"3.4\"->pydeck>=0.1.dev5->streamlit) (7.6.1)\n",
      "Requirement already satisfied: jupyter-client in c:\\programdata\\anaconda\\lib\\site-packages (from ipykernel>=5.1.2; python_version >= \"3.4\"->pydeck>=0.1.dev5->streamlit) (5.3.1)\n",
      "Requirement already satisfied: nbformat>=4.2.0 in c:\\programdata\\anaconda\\lib\\site-packages (from ipywidgets>=7.0.0->pydeck>=0.1.dev5->streamlit) (4.4.0)\n",
      "Requirement already satisfied: widgetsnbextension~=3.5.0 in c:\\programdata\\anaconda\\lib\\site-packages (from ipywidgets>=7.0.0->pydeck>=0.1.dev5->streamlit) (3.5.0)\n",
      "Requirement already satisfied: ipython-genutils in c:\\programdata\\anaconda\\lib\\site-packages (from traitlets>=4.3.2->pydeck>=0.1.dev5->streamlit) (0.2.0)\n",
      "Requirement already satisfied: jedi>=0.10 in c:\\programdata\\anaconda\\lib\\site-packages (from ipython>=5.0.0->ipykernel>=5.1.2; python_version >= \"3.4\"->pydeck>=0.1.dev5->streamlit) (0.13.3)\n",
      "Requirement already satisfied: prompt-toolkit<2.1.0,>=2.0.0 in c:\\programdata\\anaconda\\lib\\site-packages (from ipython>=5.0.0->ipykernel>=5.1.2; python_version >= \"3.4\"->pydeck>=0.1.dev5->streamlit) (2.0.9)\n",
      "Requirement already satisfied: pickleshare in c:\\programdata\\anaconda\\lib\\site-packages (from ipython>=5.0.0->ipykernel>=5.1.2; python_version >= \"3.4\"->pydeck>=0.1.dev5->streamlit) (0.7.5)\n",
      "Requirement already satisfied: colorama; sys_platform == \"win32\" in c:\\programdata\\anaconda\\lib\\site-packages (from ipython>=5.0.0->ipykernel>=5.1.2; python_version >= \"3.4\"->pydeck>=0.1.dev5->streamlit) (0.4.1)\n",
      "Requirement already satisfied: pygments in c:\\programdata\\anaconda\\lib\\site-packages (from ipython>=5.0.0->ipykernel>=5.1.2; python_version >= \"3.4\"->pydeck>=0.1.dev5->streamlit) (2.4.2)\n",
      "Requirement already satisfied: backcall in c:\\programdata\\anaconda\\lib\\site-packages (from ipython>=5.0.0->ipykernel>=5.1.2; python_version >= \"3.4\"->pydeck>=0.1.dev5->streamlit) (0.1.0)\n",
      "Requirement already satisfied: pyzmq>=13 in c:\\programdata\\anaconda\\lib\\site-packages (from jupyter-client->ipykernel>=5.1.2; python_version >= \"3.4\"->pydeck>=0.1.dev5->streamlit) (18.0.0)\n",
      "Requirement already satisfied: jupyter-core in c:\\programdata\\anaconda\\lib\\site-packages (from jupyter-client->ipykernel>=5.1.2; python_version >= \"3.4\"->pydeck>=0.1.dev5->streamlit) (4.5.0)\n",
      "Requirement already satisfied: notebook>=4.4.1 in c:\\programdata\\anaconda\\lib\\site-packages (from widgetsnbextension~=3.5.0->ipywidgets>=7.0.0->pydeck>=0.1.dev5->streamlit) (6.0.0)\n",
      "Requirement already satisfied: parso>=0.3.0 in c:\\programdata\\anaconda\\lib\\site-packages (from jedi>=0.10->ipython>=5.0.0->ipykernel>=5.1.2; python_version >= \"3.4\"->pydeck>=0.1.dev5->streamlit) (0.5.0)\n",
      "Requirement already satisfied: wcwidth in c:\\programdata\\anaconda\\lib\\site-packages (from prompt-toolkit<2.1.0,>=2.0.0->ipython>=5.0.0->ipykernel>=5.1.2; python_version >= \"3.4\"->pydeck>=0.1.dev5->streamlit) (0.1.7)\n",
      "Requirement already satisfied: terminado>=0.8.1 in c:\\programdata\\anaconda\\lib\\site-packages (from notebook>=4.4.1->widgetsnbextension~=3.5.0->ipywidgets>=7.0.0->pydeck>=0.1.dev5->streamlit) (0.8.2)\n",
      "Requirement already satisfied: nbconvert in c:\\programdata\\anaconda\\lib\\site-packages (from notebook>=4.4.1->widgetsnbextension~=3.5.0->ipywidgets>=7.0.0->pydeck>=0.1.dev5->streamlit) (5.5.0)\n",
      "Requirement already satisfied: Send2Trash in c:\\programdata\\anaconda\\lib\\site-packages (from notebook>=4.4.1->widgetsnbextension~=3.5.0->ipywidgets>=7.0.0->pydeck>=0.1.dev5->streamlit) (1.5.0)\n",
      "Requirement already satisfied: prometheus-client in c:\\programdata\\anaconda\\lib\\site-packages (from notebook>=4.4.1->widgetsnbextension~=3.5.0->ipywidgets>=7.0.0->pydeck>=0.1.dev5->streamlit) (0.7.1)\n",
      "Requirement already satisfied: defusedxml in c:\\programdata\\anaconda\\lib\\site-packages (from nbconvert->notebook>=4.4.1->widgetsnbextension~=3.5.0->ipywidgets>=7.0.0->pydeck>=0.1.dev5->streamlit) (0.6.0)\n",
      "Requirement already satisfied: testpath in c:\\programdata\\anaconda\\lib\\site-packages (from nbconvert->notebook>=4.4.1->widgetsnbextension~=3.5.0->ipywidgets>=7.0.0->pydeck>=0.1.dev5->streamlit) (0.4.2)\n",
      "Requirement already satisfied: pandocfilters>=1.4.1 in c:\\programdata\\anaconda\\lib\\site-packages (from nbconvert->notebook>=4.4.1->widgetsnbextension~=3.5.0->ipywidgets>=7.0.0->pydeck>=0.1.dev5->streamlit) (1.4.2)\n",
      "Requirement already satisfied: bleach in c:\\programdata\\anaconda\\lib\\site-packages (from nbconvert->notebook>=4.4.1->widgetsnbextension~=3.5.0->ipywidgets>=7.0.0->pydeck>=0.1.dev5->streamlit) (3.1.0)\n",
      "Requirement already satisfied: mistune>=0.8.1 in c:\\programdata\\anaconda\\lib\\site-packages (from nbconvert->notebook>=4.4.1->widgetsnbextension~=3.5.0->ipywidgets>=7.0.0->pydeck>=0.1.dev5->streamlit) (0.8.4)\n",
      "Requirement already satisfied: webencodings in c:\\programdata\\anaconda\\lib\\site-packages (from bleach->nbconvert->notebook>=4.4.1->widgetsnbextension~=3.5.0->ipywidgets>=7.0.0->pydeck>=0.1.dev5->streamlit) (0.5.1)\n",
      "Installing collected packages: validators, ipykernel, pydeck, toml, astor, pillow, blinker, pyarrow, base58, streamlit\n",
      "Successfully installed astor-0.8.1 base58-2.0.1 blinker-1.4 ipykernel-5.3.4 pillow-7.2.0 pyarrow-1.0.1 pydeck-0.5.0b1 streamlit-0.68.0 toml-0.10.1 validators-0.18.1\n",
      "Note: you may need to restart the kernel to use updated packages.\n"
     ]
    },
    {
     "name": "stderr",
     "output_type": "stream",
     "text": [
      "  WARNING: The script plasma_store.exe is installed in 'C:\\Users\\smrithi\\AppData\\Roaming\\Python\\Python37\\Scripts' which is not on PATH.\n",
      "  Consider adding this directory to PATH or, if you prefer to suppress this warning, use --no-warn-script-location.\n",
      "  WARNING: The script base58.exe is installed in 'C:\\Users\\smrithi\\AppData\\Roaming\\Python\\Python37\\Scripts' which is not on PATH.\n",
      "  Consider adding this directory to PATH or, if you prefer to suppress this warning, use --no-warn-script-location.\n",
      "  WARNING: The script streamlit.exe is installed in 'C:\\Users\\smrithi\\AppData\\Roaming\\Python\\Python37\\Scripts' which is not on PATH.\n",
      "  Consider adding this directory to PATH or, if you prefer to suppress this warning, use --no-warn-script-location.\n"
     ]
    }
   ],
   "source": [
    "pip install streamlit --user"
   ]
  },
  {
   "cell_type": "code",
   "execution_count": 120,
   "metadata": {},
   "outputs": [
    {
     "ename": "SyntaxError",
     "evalue": "invalid syntax (<ipython-input-120-dc7d25099f32>, line 1)",
     "output_type": "error",
     "traceback": [
      "\u001b[1;36m  File \u001b[1;32m\"<ipython-input-120-dc7d25099f32>\"\u001b[1;36m, line \u001b[1;32m1\u001b[0m\n\u001b[1;33m    streamlit run app1.py\u001b[0m\n\u001b[1;37m                ^\u001b[0m\n\u001b[1;31mSyntaxError\u001b[0m\u001b[1;31m:\u001b[0m invalid syntax\n"
     ]
    }
   ],
   "source": [
    "streamlit run app1.py"
   ]
  },
  {
   "cell_type": "code",
   "execution_count": null,
   "metadata": {},
   "outputs": [],
   "source": []
  }
 ],
 "metadata": {
  "kernelspec": {
   "display_name": "Python 3",
   "language": "python",
   "name": "python3"
  },
  "language_info": {
   "codemirror_mode": {
    "name": "ipython",
    "version": 3
   },
   "file_extension": ".py",
   "mimetype": "text/x-python",
   "name": "python",
   "nbconvert_exporter": "python",
   "pygments_lexer": "ipython3",
   "version": "3.7.3"
  }
 },
 "nbformat": 4,
 "nbformat_minor": 2
}
